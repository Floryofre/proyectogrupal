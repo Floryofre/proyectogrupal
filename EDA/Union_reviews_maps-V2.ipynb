{
 "cells": [
  {
   "cell_type": "markdown",
   "metadata": {},
   "source": [
    "# Libreria os"
   ]
  },
  {
   "cell_type": "code",
   "execution_count": 4,
   "metadata": {},
   "outputs": [
    {
     "name": "stdout",
     "output_type": "stream",
     "text": [
      "<class 'str'>\n"
     ]
    },
    {
     "data": {
      "text/plain": [
       "'/media/fermuba/Archivos/Google'"
      ]
     },
     "execution_count": 4,
     "metadata": {},
     "output_type": "execute_result"
    }
   ],
   "source": [
    "# Lectura de carpeta actual\n",
    "import os\n",
    "\n",
    "ruta = '/media/fermuba/Archivos'\n",
    "\n",
    "print(type(os.getcwd()))\n",
    "\n",
    "os.getcwd()"
   ]
  },
  {
   "cell_type": "code",
   "execution_count": 6,
   "metadata": {},
   "outputs": [
    {
     "name": "stdout",
     "output_type": "stream",
     "text": [
      "['review-Kentucky', 'review-North_Carolina', '-!!Compress', 'review-Alabama', 'review-Alaska', 'review-Arizona', 'review-Arkansas', 'review-California', 'review-Colorado', 'review-Connecticut', 'review-Delaware', 'review-District_of_Columbia', 'review-Florida', 'review-Georgia', 'review-Hawaii', 'review-Idaho', 'review-Illinois', 'review-Indiana', 'review-Iowa', 'review-Kansas', 'review-North_Dakota', 'review-Ohio', 'review-Oklahoma', 'review-Oregon', 'review-Pennsylvania', 'review-Rhode_Island', 'review-South_Carolina', 'review-South_Dakota', 'review-Tennessee', 'review-Texas', 'review-Utah', 'review-Vermont', 'review-Virginia', 'review-Washington', 'review-West_Virginia', 'review-Wisconsin', 'review-Wyoming', 'review-Louisiana', 'review-Maine', 'review-Maryland', 'review-Massachusetts', 'review-Michigan', 'review-Minnesota', 'review-Mississippi', 'review-Missouri', 'review-Montana', 'review-Nebraska', 'review-Nevada', 'review-New_Hampshire', 'review-New_Jersey', 'review-New_Mexico', 'review-New_York']\n"
     ]
    }
   ],
   "source": [
    "# Lectura de archivos de un directorio\n",
    "\n",
    "ruta = '/media/fermuba/Archivos/Google/Maps/reviews-estados/'\n",
    "\n",
    "lista_de_carpetas = os.listdir(ruta)\n",
    "\n",
    "print(lista_de_carpetas)"
   ]
  },
  {
   "cell_type": "code",
   "execution_count": 7,
   "metadata": {},
   "outputs": [
    {
     "name": "stdout",
     "output_type": "stream",
     "text": [
      "['Cloud Data Design, Orchestration, and Management Using Microsoft Azure -2018.pdf', 'Diagramas', 'Harlan', 'Imagenes', 'Lectura_Datos.ipynb', 'Maps', 'Mariana', 'moviesDB.txt', 'Nueva_Carpeta', 'Proyecto Grupal PART TIME.pdf', 'Renar', 'Union_reviews_maps.ipynb', 'YELP']\n",
      "['Cloud Data Design, Orchestration, and Management Using Microsoft Azure -2018.pdf', 'Diagramas', 'Harlan', 'Imagenes', 'Lectura_Datos.ipynb', 'Maps', 'Mariana', 'moviesDB.txt', 'Proyecto Grupal PART TIME.pdf', 'Renar', 'Union_reviews_maps.ipynb', 'YELP']\n"
     ]
    }
   ],
   "source": [
    "# Creacion y eliminacion de carpetas\n",
    "\n",
    "ruta = '/media/fermuba/Archivos/Google'\n",
    "\n",
    "os.mkdir('/media/fermuba/Archivos/Google/Nueva_Carpeta')\n",
    "print(os.listdir(ruta))\n",
    "\n",
    "os.rmdir('/media/fermuba/Archivos/Google/Nueva_Carpeta')\n",
    "print(os.listdir(ruta))"
   ]
  },
  {
   "cell_type": "code",
   "execution_count": 9,
   "metadata": {},
   "outputs": [
    {
     "name": "stdout",
     "output_type": "stream",
     "text": [
      "/media/fermuba/Archivos/Google/archivo.txt\n"
     ]
    },
    {
     "data": {
      "text/plain": [
       "['Cloud Data Design, Orchestration, and Management Using Microsoft Azure -2018.pdf',\n",
       " 'Diagramas',\n",
       " 'Harlan',\n",
       " 'Imagenes',\n",
       " 'Lectura_Datos.ipynb',\n",
       " 'Maps',\n",
       " 'Mariana',\n",
       " 'moviesDB.txt',\n",
       " 'Proyecto Grupal PART TIME.pdf',\n",
       " 'Renar',\n",
       " 'Union_reviews_maps.ipynb',\n",
       " 'YELP']"
      ]
     },
     "execution_count": 9,
     "metadata": {},
     "output_type": "execute_result"
    }
   ],
   "source": [
    "# Combinar ruta con archivos\n",
    "ruta = '/media/fermuba/Archivos/Google'\n",
    "archivo = 'archivo.txt'\n",
    "\n",
    "ruta_completa = os.path.join(ruta, archivo) # No se crea el archivo, genera un path\n",
    "print(ruta_completa)\n",
    "os.listdir(ruta)"
   ]
  },
  {
   "cell_type": "code",
   "execution_count": 40,
   "metadata": {},
   "outputs": [
    {
     "name": "stdout",
     "output_type": "stream",
     "text": [
      "Directorio actual: /media/fermuba/Archivos/Google/Maps/reviews-estados/\n",
      "Subdirectorios: ['review-Kentucky', 'review-North_Carolina', '-!!Compress', 'review-Alabama', 'review-Alaska', 'review-Arizona', 'review-Arkansas', 'review-California', 'review-Colorado', 'review-Connecticut', 'review-Delaware', 'review-District_of_Columbia', 'review-Florida', 'review-Georgia', 'review-Hawaii', 'review-Idaho', 'review-Illinois', 'review-Indiana', 'review-Iowa', 'review-Kansas', 'review-North_Dakota', 'review-Ohio', 'review-Oklahoma', 'review-Oregon', 'review-Pennsylvania', 'review-Rhode_Island', 'review-South_Carolina', 'review-South_Dakota', 'review-Tennessee', 'review-Texas', 'review-Utah', 'review-Vermont', 'review-Virginia', 'review-Washington', 'review-West_Virginia', 'review-Wisconsin', 'review-Wyoming', 'review-Louisiana', 'review-Maine', 'review-Maryland', 'review-Massachusetts', 'review-Michigan', 'review-Minnesota', 'review-Mississippi', 'review-Missouri', 'review-Montana', 'review-Nebraska', 'review-Nevada', 'review-New_Hampshire', 'review-New_Jersey', 'review-New_Mexico', 'review-New_York']\n",
      "Archivos: []\n",
      "Directorio actual: /media/fermuba/Archivos/Google/Maps/reviews-estados/review-Kentucky\n",
      "Subdirectorios: []\n",
      "Archivos: ['1.json', '10.json', '11.json', '2.json', '3.json', '4.json', '5.json', '6.json', '7.json', '8.json', '9.json']\n",
      "Directorio actual: /media/fermuba/Archivos/Google/Maps/reviews-estados/review-North_Carolina\n",
      "Subdirectorios: []\n",
      "Archivos: ['1.json', '10.json', '11.json', '12.json', '13.json', '14.json', '15.json', '2.json', '3.json', '4.json', '5.json', '6.json', '7.json', '8.json', '9.json']\n",
      "Directorio actual: /media/fermuba/Archivos/Google/Maps/reviews-estados/-!!Compress\n",
      "Subdirectorios: []\n",
      "Archivos: ['review-Alabama.7z', 'review-Alaska.7z', 'review-Arizona.7z', 'review-Arkansas.7z', 'review-California.7z', 'review-Colorado.7z', 'review-Connecticut.7z', 'review-Delaware.7z', 'review-District_of_Columbia.7z', 'review-Florida.7z', 'review-Georgia.7z', 'review-Hawaii.7z', 'review-Idaho.7z', 'review-Indiana.7z', 'review-Iowa.7z', 'review-Kansas.7z', 'review-Kentucky.7z', 'review-Louisiana.7z', 'review-Maine.7z', 'review-Maryland.7z', 'review-Massachusetts.7z', 'review-Michigan.7z', 'review-Minnesota.7z', 'review-South_Carolina.7z', 'review-South_Dakota.7z', 'review-Tennessee.7z', 'review-Texas.7z', 'review-Utah.7z', 'review-Vermont.7z', 'review-Virginia.7z', 'review-Washington.7z', 'review-West_Virginia.7z', 'review-Wisconsin.7z', 'review-Wyoming.7z', 'review-Missouri.7z', 'review-Montana.7z', 'review-Nebraska.7z', 'review-Nevada.7z', 'review-New_Hampshire.7z', 'review-New_Jersey.7z', 'review-New_Mexico.7z', 'review-New_York.7z', 'review-North_Carolina.7z', 'review-North_Dakota.7z', 'review-Ohio.7z', 'review-Oklahoma.7z', 'review-Oregon.7z', 'review-Pennsylvania.7z', 'review-Illinois.7z', 'review-Mississippi.7z', 'review-Rhode_Island.7z']\n",
      "Directorio actual: /media/fermuba/Archivos/Google/Maps/reviews-estados/review-Alabama\n",
      "Subdirectorios: []\n",
      "Archivos: ['1.json', '10.json', '11.json', '12.json', '2.json', '3.json', '4.json', '5.json', '6.json', '7.json', '8.json', '9.json']\n",
      "Directorio actual: /media/fermuba/Archivos/Google/Maps/reviews-estados/review-Alaska\n",
      "Subdirectorios: []\n",
      "Archivos: ['1.json', '2.json', '3.json', '4.json']\n",
      "Directorio actual: /media/fermuba/Archivos/Google/Maps/reviews-estados/review-Arizona\n",
      "Subdirectorios: []\n",
      "Archivos: ['1.json', '10.json', '11.json', '12.json', '13.json', '14.json', '2.json', '3.json', '4.json', '5.json', '6.json', '7.json', '8.json', '9.json']\n",
      "Directorio actual: /media/fermuba/Archivos/Google/Maps/reviews-estados/review-Arkansas\n",
      "Subdirectorios: []\n",
      "Archivos: ['1.json', '10.json', '11.json', '12.json', '13.json', '14.json', '15.json', '16.json', '2.json', '3.json', '4.json', '5.json', '6.json', '7.json', '8.json', '9.json']\n",
      "Directorio actual: /media/fermuba/Archivos/Google/Maps/reviews-estados/review-California\n",
      "Subdirectorios: []\n",
      "Archivos: ['1.json', '10.json', '11.json', '12.json', '13.json', '14.json', '15.json', '16.json', '17.json', '18.json', '2.json', '3.json', '4.json', '5.json', '6.json', '7.json', '8.json', '9.json']\n",
      "Directorio actual: /media/fermuba/Archivos/Google/Maps/reviews-estados/review-Colorado\n",
      "Subdirectorios: []\n",
      "Archivos: ['1.json', '10.json', '11.json', '12.json', '13.json', '14.json', '15.json', '16.json', '2.json', '3.json', '4.json', '5.json', '6.json', '7.json', '8.json', '9.json']\n",
      "Directorio actual: /media/fermuba/Archivos/Google/Maps/reviews-estados/review-Connecticut\n",
      "Subdirectorios: []\n",
      "Archivos: ['1.json', '10.json', '11.json', '12.json', '13.json', '14.json', '15.json', '16.json', '17.json', '18.json', '2.json', '3.json', '4.json', '5.json', '6.json', '7.json', '8.json', '9.json']\n",
      "Directorio actual: /media/fermuba/Archivos/Google/Maps/reviews-estados/review-Delaware\n",
      "Subdirectorios: []\n",
      "Archivos: ['1.json', '2.json', '3.json', '4.json', '5.json', '6.json', '7.json']\n",
      "Directorio actual: /media/fermuba/Archivos/Google/Maps/reviews-estados/review-District_of_Columbia\n",
      "Subdirectorios: []\n",
      "Archivos: ['1.json', '2.json', '3.json', '4.json']\n",
      "Directorio actual: /media/fermuba/Archivos/Google/Maps/reviews-estados/review-Florida\n",
      "Subdirectorios: []\n",
      "Archivos: ['1.json', '10.json', '11.json', '12.json', '13.json', '14.json', '15.json', '16.json', '17.json', '18.json', '19.json', '2.json', '3.json', '4.json', '5.json', '6.json', '7.json', '8.json', '9.json']\n",
      "Directorio actual: /media/fermuba/Archivos/Google/Maps/reviews-estados/review-Georgia\n",
      "Subdirectorios: []\n",
      "Archivos: ['1.json', '10.json', '11.json', '12.json', '13.json', '2.json', '3.json', '4.json', '5.json', '6.json', '7.json', '8.json', '9.json']\n",
      "Directorio actual: /media/fermuba/Archivos/Google/Maps/reviews-estados/review-Hawaii\n",
      "Subdirectorios: []\n",
      "Archivos: ['1.json', '10.json', '11.json', '2.json', '3.json', '4.json', '5.json', '6.json', '7.json', '8.json', '9.json']\n",
      "Directorio actual: /media/fermuba/Archivos/Google/Maps/reviews-estados/review-Idaho\n",
      "Subdirectorios: []\n",
      "Archivos: ['1.json', '10.json', '11.json', '12.json', '13.json', '14.json', '2.json', '3.json', '4.json', '5.json', '6.json', '7.json', '8.json', '9.json']\n",
      "Directorio actual: /media/fermuba/Archivos/Google/Maps/reviews-estados/review-Illinois\n",
      "Subdirectorios: []\n",
      "Archivos: ['1.json', '10.json', '11.json', '12.json', '13.json', '14.json', '2.json', '3.json', '4.json', '5.json', '6.json', '7.json', '8.json', '9.json']\n",
      "Directorio actual: /media/fermuba/Archivos/Google/Maps/reviews-estados/review-Indiana\n",
      "Subdirectorios: []\n",
      "Archivos: ['1.json', '10.json', '11.json', '12.json', '13.json', '14.json', '15.json', '2.json', '3.json', '4.json', '5.json', '6.json', '7.json', '8.json', '9.json']\n",
      "Directorio actual: /media/fermuba/Archivos/Google/Maps/reviews-estados/review-Iowa\n",
      "Subdirectorios: []\n",
      "Archivos: ['1.json', '10.json', '11.json', '12.json', '13.json', '14.json', '15.json', '16.json', '17.json', '18.json', '2.json', '3.json', '4.json', '5.json', '6.json', '7.json', '8.json', '9.json']\n",
      "Directorio actual: /media/fermuba/Archivos/Google/Maps/reviews-estados/review-Kansas\n",
      "Subdirectorios: []\n",
      "Archivos: ['1.json', '10.json', '11.json', '12.json', '13.json', '2.json', '3.json', '4.json', '5.json', '6.json', '7.json', '8.json', '9.json']\n",
      "Directorio actual: /media/fermuba/Archivos/Google/Maps/reviews-estados/review-North_Dakota\n",
      "Subdirectorios: []\n",
      "Archivos: ['1.json', '2.json', '3.json', '4.json']\n",
      "Directorio actual: /media/fermuba/Archivos/Google/Maps/reviews-estados/review-Ohio\n",
      "Subdirectorios: []\n",
      "Archivos: ['1.json', '10.json', '11.json', '12.json', '13.json', '2.json', '3.json', '4.json', '5.json', '6.json', '7.json', '8.json', '9.json']\n",
      "Directorio actual: /media/fermuba/Archivos/Google/Maps/reviews-estados/review-Oklahoma\n",
      "Subdirectorios: []\n",
      "Archivos: ['1.json', '10.json', '11.json', '2.json', '3.json', '4.json', '5.json', '6.json', '7.json', '8.json', '9.json']\n",
      "Directorio actual: /media/fermuba/Archivos/Google/Maps/reviews-estados/review-Oregon\n",
      "Subdirectorios: []\n",
      "Archivos: ['1.json', '10.json', '11.json', '12.json', '13.json', '14.json', '15.json', '2.json', '3.json', '4.json', '5.json', '6.json', '7.json', '8.json', '9.json']\n",
      "Directorio actual: /media/fermuba/Archivos/Google/Maps/reviews-estados/review-Pennsylvania\n",
      "Subdirectorios: []\n",
      "Archivos: ['1.json', '10.json', '11.json', '12.json', '13.json', '14.json', '15.json', '16.json', '2.json', '3.json', '4.json', '5.json', '6.json', '7.json', '8.json', '9.json']\n",
      "Directorio actual: /media/fermuba/Archivos/Google/Maps/reviews-estados/review-Rhode_Island\n",
      "Subdirectorios: []\n",
      "Archivos: ['1.json', '2.json', '3.json', '4.json', '5.json', '6.json']\n",
      "Directorio actual: /media/fermuba/Archivos/Google/Maps/reviews-estados/review-South_Carolina\n",
      "Subdirectorios: []\n",
      "Archivos: ['1.json', '10.json', '11.json', '12.json', '13.json', '14.json', '2.json', '3.json', '4.json', '5.json', '6.json', '7.json', '8.json', '9.json']\n",
      "Directorio actual: /media/fermuba/Archivos/Google/Maps/reviews-estados/review-South_Dakota\n",
      "Subdirectorios: []\n",
      "Archivos: ['1.json', '2.json', '3.json', '4.json', '5.json']\n",
      "Directorio actual: /media/fermuba/Archivos/Google/Maps/reviews-estados/review-Tennessee\n",
      "Subdirectorios: []\n",
      "Archivos: ['1.json', '10.json', '11.json', '12.json', '2.json', '3.json', '4.json', '5.json', '6.json', '7.json', '8.json', '9.json']\n",
      "Directorio actual: /media/fermuba/Archivos/Google/Maps/reviews-estados/review-Texas\n",
      "Subdirectorios: []\n",
      "Archivos: ['1.json', '10.json', '11.json', '12.json', '13.json', '14.json', '15.json', '16.json', '2.json', '3.json', '4.json', '5.json', '6.json', '7.json', '8.json', '9.json']\n",
      "Directorio actual: /media/fermuba/Archivos/Google/Maps/reviews-estados/review-Utah\n",
      "Subdirectorios: []\n",
      "Archivos: ['1.json', '10.json', '2.json', '3.json', '4.json', '5.json', '6.json', '7.json', '8.json', '9.json']\n",
      "Directorio actual: /media/fermuba/Archivos/Google/Maps/reviews-estados/review-Vermont\n",
      "Subdirectorios: []\n",
      "Archivos: ['1.json', '2.json', '3.json']\n",
      "Directorio actual: /media/fermuba/Archivos/Google/Maps/reviews-estados/review-Virginia\n",
      "Subdirectorios: []\n",
      "Archivos: ['1.json', '10.json', '11.json', '12.json', '2.json', '3.json', '4.json', '5.json', '6.json', '7.json', '8.json', '9.json']\n",
      "Directorio actual: /media/fermuba/Archivos/Google/Maps/reviews-estados/review-Washington\n",
      "Subdirectorios: []\n",
      "Archivos: ['1.json', '10.json', '11.json', '12.json', '13.json', '2.json', '3.json', '4.json', '5.json', '6.json', '7.json', '8.json', '9.json']\n",
      "Directorio actual: /media/fermuba/Archivos/Google/Maps/reviews-estados/review-West_Virginia\n",
      "Subdirectorios: []\n",
      "Archivos: ['1.json', '2.json', '3.json', '4.json', '5.json', '6.json', '7.json', '8.json']\n",
      "Directorio actual: /media/fermuba/Archivos/Google/Maps/reviews-estados/review-Wisconsin\n",
      "Subdirectorios: []\n",
      "Archivos: ['1.json', '10.json', '11.json', '12.json', '2.json', '3.json', '4.json', '5.json', '6.json', '7.json', '8.json', '9.json']\n",
      "Directorio actual: /media/fermuba/Archivos/Google/Maps/reviews-estados/review-Wyoming\n",
      "Subdirectorios: []\n",
      "Archivos: ['1.json', '2.json', '3.json']\n",
      "Directorio actual: /media/fermuba/Archivos/Google/Maps/reviews-estados/review-Louisiana\n",
      "Subdirectorios: []\n",
      "Archivos: ['1.json', '10.json', '2.json', '3.json', '4.json', '5.json', '6.json', '7.json', '8.json', '9.json']\n",
      "Directorio actual: /media/fermuba/Archivos/Google/Maps/reviews-estados/review-Maine\n",
      "Subdirectorios: []\n",
      "Archivos: ['1.json', '2.json', '3.json', '4.json', '5.json', '6.json', '7.json', '8.json']\n",
      "Directorio actual: /media/fermuba/Archivos/Google/Maps/reviews-estados/review-Maryland\n",
      "Subdirectorios: []\n",
      "Archivos: ['1.json', '10.json', '11.json', '12.json', '13.json', '14.json', '15.json', '16.json', '2.json', '3.json', '4.json', '5.json', '6.json', '7.json', '8.json', '9.json']\n",
      "Directorio actual: /media/fermuba/Archivos/Google/Maps/reviews-estados/review-Massachusetts\n",
      "Subdirectorios: []\n",
      "Archivos: ['1.json', '10.json', '11.json', '12.json', '13.json', '14.json', '15.json', '16.json', '2.json', '3.json', '4.json', '5.json', '6.json', '7.json', '8.json', '9.json']\n",
      "Directorio actual: /media/fermuba/Archivos/Google/Maps/reviews-estados/review-Michigan\n",
      "Subdirectorios: []\n",
      "Archivos: ['1.json', '10.json', '11.json', '12.json', '13.json', '14.json', '15.json', '2.json', '3.json', '4.json', '5.json', '6.json', '7.json', '8.json', '9.json']\n",
      "Directorio actual: /media/fermuba/Archivos/Google/Maps/reviews-estados/review-Minnesota\n",
      "Subdirectorios: []\n",
      "Archivos: ['1.json', '10.json', '11.json', '12.json', '2.json', '3.json', '4.json', '5.json', '6.json', '7.json', '8.json', '9.json']\n",
      "Directorio actual: /media/fermuba/Archivos/Google/Maps/reviews-estados/review-Mississippi\n",
      "Subdirectorios: []\n",
      "Archivos: ['1.json', '10.json', '11.json', '12.json', '13.json', '14.json', '2.json', '3.json', '4.json', '5.json', '6.json', '7.json', '8.json', '9.json']\n",
      "Directorio actual: /media/fermuba/Archivos/Google/Maps/reviews-estados/review-Missouri\n",
      "Subdirectorios: []\n",
      "Archivos: ['1.json', '10.json', '11.json', '2.json', '3.json', '4.json', '5.json', '6.json', '7.json', '8.json', '9.json']\n",
      "Directorio actual: /media/fermuba/Archivos/Google/Maps/reviews-estados/review-Montana\n",
      "Subdirectorios: []\n",
      "Archivos: ['1.json', '2.json', '3.json', '4.json', '5.json', '6.json', '7.json']\n",
      "Directorio actual: /media/fermuba/Archivos/Google/Maps/reviews-estados/review-Nebraska\n",
      "Subdirectorios: []\n",
      "Archivos: ['1.json', '10.json', '11.json', '12.json', '13.json', '2.json', '3.json', '4.json', '5.json', '6.json', '7.json', '8.json', '9.json']\n",
      "Directorio actual: /media/fermuba/Archivos/Google/Maps/reviews-estados/review-Nevada\n",
      "Subdirectorios: []\n",
      "Archivos: ['1.json', '10.json', '11.json', '12.json', '2.json', '3.json', '4.json', '5.json', '6.json', '7.json', '8.json', '9.json']\n",
      "Directorio actual: /media/fermuba/Archivos/Google/Maps/reviews-estados/review-New_Hampshire\n",
      "Subdirectorios: []\n",
      "Archivos: ['1.json', '2.json', '3.json', '4.json', '5.json', '6.json', '7.json', '8.json', '9.json']\n",
      "Directorio actual: /media/fermuba/Archivos/Google/Maps/reviews-estados/review-New_Jersey\n",
      "Subdirectorios: []\n",
      "Archivos: ['1.json', '10.json', '11.json', '12.json', '13.json', '2.json', '3.json', '4.json', '5.json', '6.json', '7.json', '8.json', '9.json']\n",
      "Directorio actual: /media/fermuba/Archivos/Google/Maps/reviews-estados/review-New_Mexico\n",
      "Subdirectorios: []\n",
      "Archivos: ['1.json', '10.json', '11.json', '12.json', '2.json', '3.json', '4.json', '5.json', '6.json', '7.json', '8.json', '9.json']\n",
      "Directorio actual: /media/fermuba/Archivos/Google/Maps/reviews-estados/review-New_York\n",
      "Subdirectorios: []\n",
      "Archivos: ['1.json', '10.json', '11.json', '12.json', '13.json', '14.json', '15.json', '16.json', '17.json', '18.json', '2.json', '3.json', '4.json', '5.json', '6.json', '7.json', '8.json', '9.json']\n"
     ]
    }
   ],
   "source": [
    "# Navegar por la estructura de directorios\n",
    "ruta = '/media/fermuba/Archivos/Google/Maps/reviews-estados/'\n",
    "\n",
    "for root, dirs, files in os.walk(ruta):\n",
    "    print(\"Directorio actual:\", root)\n",
    "    print(\"Subdirectorios:\", dirs)\n",
    "    print(\"Archivos:\", files)\n"
   ]
  },
  {
   "cell_type": "code",
   "execution_count": 42,
   "metadata": {},
   "outputs": [
    {
     "data": {
      "text/plain": [
       "[]"
      ]
     },
     "execution_count": 42,
     "metadata": {},
     "output_type": "execute_result"
    }
   ],
   "source": [
    "dirs"
   ]
  },
  {
   "cell_type": "markdown",
   "metadata": {},
   "source": [
    "# Liatado de gmap_id de metadatos"
   ]
  },
  {
   "cell_type": "code",
   "execution_count": 1,
   "metadata": {},
   "outputs": [
    {
     "data": {
      "text/plain": [
       "(14142, 10)"
      ]
     },
     "execution_count": 1,
     "metadata": {},
     "output_type": "execute_result"
    }
   ],
   "source": [
    "import pandas as pd\n",
    "\n",
    "metadato = pd.read_parquet(\"./Harlan/Google_Business_Filter_Wine_segundo.parquet\")\n",
    "metadato_tam_original = metadato.shape\n",
    "metadato_tam_original"
   ]
  },
  {
   "cell_type": "code",
   "execution_count": 2,
   "metadata": {},
   "outputs": [],
   "source": [
    "listado_gmapid_metadato = metadato.gmap_id.to_list()"
   ]
  },
  {
   "cell_type": "code",
   "execution_count": 3,
   "metadata": {},
   "outputs": [
    {
     "data": {
      "text/plain": [
       "list"
      ]
     },
     "execution_count": 3,
     "metadata": {},
     "output_type": "execute_result"
    }
   ],
   "source": [
    "type(listado_gmapid_metadato)"
   ]
  },
  {
   "cell_type": "code",
   "execution_count": 4,
   "metadata": {},
   "outputs": [
    {
     "data": {
      "text/plain": [
       "14142"
      ]
     },
     "execution_count": 4,
     "metadata": {},
     "output_type": "execute_result"
    }
   ],
   "source": [
    "len(listado_gmapid_metadato)"
   ]
  },
  {
   "cell_type": "code",
   "execution_count": 5,
   "metadata": {},
   "outputs": [
    {
     "data": {
      "text/plain": [
       "14061"
      ]
     },
     "execution_count": 5,
     "metadata": {},
     "output_type": "execute_result"
    }
   ],
   "source": [
    "# Creo un conjunto set que no admite duplicados, de esa forma los elimino, luego lo convierto en lista\n",
    "listado_gmapid_metadato = list(set(listado_gmapid_metadato))\n",
    "len(listado_gmapid_metadato)"
   ]
  },
  {
   "cell_type": "code",
   "execution_count": 6,
   "metadata": {},
   "outputs": [
    {
     "name": "stdout",
     "output_type": "stream",
     "text": [
      "<class 'str'>\n",
      "0x80dd28864e352cb9:0x58fee5b010b8f706\n"
     ]
    }
   ],
   "source": [
    "print(type(listado_gmapid_metadato[0]))\n",
    "print(listado_gmapid_metadato[0])"
   ]
  },
  {
   "cell_type": "markdown",
   "metadata": {},
   "source": [
    "# Reviews de Maps\n",
    ". Codigo para tomar solo la informacion que tenga wine y vine, para luego unir con metadata"
   ]
  },
  {
   "cell_type": "code",
   "execution_count": 7,
   "metadata": {},
   "outputs": [
    {
     "data": {
      "text/plain": [
       "(150000, 8)"
      ]
     },
     "execution_count": 7,
     "metadata": {},
     "output_type": "execute_result"
    }
   ],
   "source": [
    "import pandas as pd\n",
    "\n",
    "df = pd.read_json(\"./Maps/reviews-estados/review-Alabama/1.json\", lines= True)\n",
    "tamanio_original = df.shape\n",
    "tamanio_original"
   ]
  },
  {
   "cell_type": "code",
   "execution_count": 8,
   "metadata": {},
   "outputs": [
    {
     "data": {
      "text/html": [
       "<div>\n",
       "<style scoped>\n",
       "    .dataframe tbody tr th:only-of-type {\n",
       "        vertical-align: middle;\n",
       "    }\n",
       "\n",
       "    .dataframe tbody tr th {\n",
       "        vertical-align: top;\n",
       "    }\n",
       "\n",
       "    .dataframe thead th {\n",
       "        text-align: right;\n",
       "    }\n",
       "</style>\n",
       "<table border=\"1\" class=\"dataframe\">\n",
       "  <thead>\n",
       "    <tr style=\"text-align: right;\">\n",
       "      <th></th>\n",
       "      <th>user_id</th>\n",
       "      <th>name</th>\n",
       "      <th>time</th>\n",
       "      <th>rating</th>\n",
       "      <th>text</th>\n",
       "      <th>pics</th>\n",
       "      <th>resp</th>\n",
       "      <th>gmap_id</th>\n",
       "    </tr>\n",
       "  </thead>\n",
       "  <tbody>\n",
       "    <tr>\n",
       "      <th>0</th>\n",
       "      <td>1.140438e+20</td>\n",
       "      <td>Kanisha Mixon</td>\n",
       "      <td>1597168272670</td>\n",
       "      <td>5</td>\n",
       "      <td>Very Personable staff! Beautiful and clean env...</td>\n",
       "      <td>None</td>\n",
       "      <td>None</td>\n",
       "      <td>0x8862134e67ff5c87:0x38b5e2ae99cd1fcf</td>\n",
       "    </tr>\n",
       "    <tr>\n",
       "      <th>1</th>\n",
       "      <td>1.160090e+20</td>\n",
       "      <td>Brandie Hodges</td>\n",
       "      <td>1609899039594</td>\n",
       "      <td>5</td>\n",
       "      <td>Best clothing intown</td>\n",
       "      <td>None</td>\n",
       "      <td>None</td>\n",
       "      <td>0x8862134e67ff5c87:0x38b5e2ae99cd1fcf</td>\n",
       "    </tr>\n",
       "    <tr>\n",
       "      <th>2</th>\n",
       "      <td>1.062399e+20</td>\n",
       "      <td>Sharon King</td>\n",
       "      <td>1547235290843</td>\n",
       "      <td>4</td>\n",
       "      <td>None</td>\n",
       "      <td>None</td>\n",
       "      <td>None</td>\n",
       "      <td>0x8862134e67ff5c87:0x38b5e2ae99cd1fcf</td>\n",
       "    </tr>\n",
       "    <tr>\n",
       "      <th>3</th>\n",
       "      <td>1.049701e+20</td>\n",
       "      <td>Veronica Pierce</td>\n",
       "      <td>1517709403534</td>\n",
       "      <td>5</td>\n",
       "      <td>None</td>\n",
       "      <td>None</td>\n",
       "      <td>None</td>\n",
       "      <td>0x8862134e67ff5c87:0x38b5e2ae99cd1fcf</td>\n",
       "    </tr>\n",
       "    <tr>\n",
       "      <th>4</th>\n",
       "      <td>1.105875e+20</td>\n",
       "      <td>Whitney Waldon Collier</td>\n",
       "      <td>1535245718492</td>\n",
       "      <td>5</td>\n",
       "      <td>None</td>\n",
       "      <td>None</td>\n",
       "      <td>None</td>\n",
       "      <td>0x8862134e67ff5c87:0x38b5e2ae99cd1fcf</td>\n",
       "    </tr>\n",
       "  </tbody>\n",
       "</table>\n",
       "</div>"
      ],
      "text/plain": [
       "        user_id                    name           time  rating  \\\n",
       "0  1.140438e+20           Kanisha Mixon  1597168272670       5   \n",
       "1  1.160090e+20          Brandie Hodges  1609899039594       5   \n",
       "2  1.062399e+20             Sharon King  1547235290843       4   \n",
       "3  1.049701e+20         Veronica Pierce  1517709403534       5   \n",
       "4  1.105875e+20  Whitney Waldon Collier  1535245718492       5   \n",
       "\n",
       "                                                text  pics  resp  \\\n",
       "0  Very Personable staff! Beautiful and clean env...  None  None   \n",
       "1                               Best clothing intown  None  None   \n",
       "2                                               None  None  None   \n",
       "3                                               None  None  None   \n",
       "4                                               None  None  None   \n",
       "\n",
       "                                 gmap_id  \n",
       "0  0x8862134e67ff5c87:0x38b5e2ae99cd1fcf  \n",
       "1  0x8862134e67ff5c87:0x38b5e2ae99cd1fcf  \n",
       "2  0x8862134e67ff5c87:0x38b5e2ae99cd1fcf  \n",
       "3  0x8862134e67ff5c87:0x38b5e2ae99cd1fcf  \n",
       "4  0x8862134e67ff5c87:0x38b5e2ae99cd1fcf  "
      ]
     },
     "execution_count": 8,
     "metadata": {},
     "output_type": "execute_result"
    }
   ],
   "source": [
    "df.head()"
   ]
  },
  {
   "cell_type": "code",
   "execution_count": 20,
   "metadata": {},
   "outputs": [
    {
     "name": "stdout",
     "output_type": "stream",
     "text": [
      "<class 'pandas.core.frame.DataFrame'>\n",
      "RangeIndex: 150000 entries, 0 to 149999\n",
      "Data columns (total 8 columns):\n",
      " #   Column   Non-Null Count   Dtype  \n",
      "---  ------   --------------   -----  \n",
      " 0   user_id  150000 non-null  float64\n",
      " 1   name     150000 non-null  object \n",
      " 2   time     150000 non-null  int64  \n",
      " 3   rating   150000 non-null  int64  \n",
      " 4   text     82943 non-null   object \n",
      " 5   pics     3087 non-null    object \n",
      " 6   resp     20893 non-null   object \n",
      " 7   gmap_id  150000 non-null  object \n",
      "dtypes: float64(1), int64(2), object(5)\n",
      "memory usage: 9.2+ MB\n"
     ]
    }
   ],
   "source": [
    "df.info()"
   ]
  },
  {
   "cell_type": "code",
   "execution_count": 21,
   "metadata": {},
   "outputs": [
    {
     "data": {
      "text/html": [
       "<div>\n",
       "<style scoped>\n",
       "    .dataframe tbody tr th:only-of-type {\n",
       "        vertical-align: middle;\n",
       "    }\n",
       "\n",
       "    .dataframe tbody tr th {\n",
       "        vertical-align: top;\n",
       "    }\n",
       "\n",
       "    .dataframe thead th {\n",
       "        text-align: right;\n",
       "    }\n",
       "</style>\n",
       "<table border=\"1\" class=\"dataframe\">\n",
       "  <thead>\n",
       "    <tr style=\"text-align: right;\">\n",
       "      <th></th>\n",
       "      <th>user_id</th>\n",
       "      <th>name</th>\n",
       "      <th>rating</th>\n",
       "      <th>text</th>\n",
       "      <th>gmap_id</th>\n",
       "    </tr>\n",
       "  </thead>\n",
       "  <tbody>\n",
       "    <tr>\n",
       "      <th>0</th>\n",
       "      <td>1.140438e+20</td>\n",
       "      <td>Kanisha Mixon</td>\n",
       "      <td>5</td>\n",
       "      <td>Very Personable staff! Beautiful and clean env...</td>\n",
       "      <td>0x8862134e67ff5c87:0x38b5e2ae99cd1fcf</td>\n",
       "    </tr>\n",
       "    <tr>\n",
       "      <th>1</th>\n",
       "      <td>1.160090e+20</td>\n",
       "      <td>Brandie Hodges</td>\n",
       "      <td>5</td>\n",
       "      <td>Best clothing intown</td>\n",
       "      <td>0x8862134e67ff5c87:0x38b5e2ae99cd1fcf</td>\n",
       "    </tr>\n",
       "    <tr>\n",
       "      <th>2</th>\n",
       "      <td>1.062399e+20</td>\n",
       "      <td>Sharon King</td>\n",
       "      <td>4</td>\n",
       "      <td>None</td>\n",
       "      <td>0x8862134e67ff5c87:0x38b5e2ae99cd1fcf</td>\n",
       "    </tr>\n",
       "    <tr>\n",
       "      <th>3</th>\n",
       "      <td>1.049701e+20</td>\n",
       "      <td>Veronica Pierce</td>\n",
       "      <td>5</td>\n",
       "      <td>None</td>\n",
       "      <td>0x8862134e67ff5c87:0x38b5e2ae99cd1fcf</td>\n",
       "    </tr>\n",
       "    <tr>\n",
       "      <th>4</th>\n",
       "      <td>1.105875e+20</td>\n",
       "      <td>Whitney Waldon Collier</td>\n",
       "      <td>5</td>\n",
       "      <td>None</td>\n",
       "      <td>0x8862134e67ff5c87:0x38b5e2ae99cd1fcf</td>\n",
       "    </tr>\n",
       "  </tbody>\n",
       "</table>\n",
       "</div>"
      ],
      "text/plain": [
       "        user_id                    name  rating  \\\n",
       "0  1.140438e+20           Kanisha Mixon       5   \n",
       "1  1.160090e+20          Brandie Hodges       5   \n",
       "2  1.062399e+20             Sharon King       4   \n",
       "3  1.049701e+20         Veronica Pierce       5   \n",
       "4  1.105875e+20  Whitney Waldon Collier       5   \n",
       "\n",
       "                                                text  \\\n",
       "0  Very Personable staff! Beautiful and clean env...   \n",
       "1                               Best clothing intown   \n",
       "2                                               None   \n",
       "3                                               None   \n",
       "4                                               None   \n",
       "\n",
       "                                 gmap_id  \n",
       "0  0x8862134e67ff5c87:0x38b5e2ae99cd1fcf  \n",
       "1  0x8862134e67ff5c87:0x38b5e2ae99cd1fcf  \n",
       "2  0x8862134e67ff5c87:0x38b5e2ae99cd1fcf  \n",
       "3  0x8862134e67ff5c87:0x38b5e2ae99cd1fcf  \n",
       "4  0x8862134e67ff5c87:0x38b5e2ae99cd1fcf  "
      ]
     },
     "execution_count": 21,
     "metadata": {},
     "output_type": "execute_result"
    }
   ],
   "source": [
    "# Eliminar columnas time, pics, resp\n",
    "columnas_eliminar = ['time', 'pics', 'resp']\n",
    "df.drop(columns= columnas_eliminar, inplace= True)\n",
    "\n",
    "df.head()"
   ]
  },
  {
   "cell_type": "code",
   "execution_count": 38,
   "metadata": {},
   "outputs": [],
   "source": [
    "resultado = df[df['gmap_id'].isin(listado_gmapid_metadato)]"
   ]
  },
  {
   "cell_type": "markdown",
   "metadata": {},
   "source": [
    "# Archivo resultado de estados"
   ]
  },
  {
   "cell_type": "code",
   "execution_count": 9,
   "metadata": {},
   "outputs": [],
   "source": [
    "import os\n",
    "import pandas as pd\n",
    "\n",
    "# Ruta principal\n",
    "ruta = '/media/fermuba/Archivos/Google/Maps/reviews-estados/'\n",
    "\n",
    "# Obtener la lista de carpetas en la ruta principal\n",
    "carpetas = os.listdir(ruta)\n",
    "\n",
    "# Iterar a través de las carpetas\n",
    "for carpeta in carpetas:\n",
    "    # Crear la ruta completa de la carpeta\n",
    "    carpeta_ruta = os.path.join(ruta, carpeta)\n",
    "    \n",
    "    nombre_estado = carpeta.replace(\"review-\", \"\")\n",
    "\n",
    "    # Crear una lista para almacenar los DataFrames resultantes de cada archivo JSON\n",
    "    dataframes = []\n",
    "    \n",
    "    # Obtener la lista de archivos JSON en la carpeta\n",
    "    archivos_json = os.listdir(carpeta_ruta)\n",
    "    \n",
    "    # Iterar a través de los archivos JSON\n",
    "    for archivo in archivos_json:\n",
    "        # Crear la ruta completa del archivo JSON\n",
    "        archivo_ruta = os.path.join(carpeta_ruta, archivo)\n",
    "        \n",
    "        # Leer el archivo JSON en un DataFrame\n",
    "        df = pd.read_json(archivo_ruta, lines=True)\n",
    "        \n",
    "        # Realizar las operaciones necesarias en df\n",
    "        # Eliminar columnas time, pics, resp\n",
    "        columnas_eliminar = ['pics', 'resp']\n",
    "        df.drop(columns= columnas_eliminar, inplace= True)\n",
    "        \n",
    "        df = df[df['gmap_id'].isin(listado_gmapid_metadato)]\n",
    "\n",
    "        # Agregar una columna de estado con el nombre de la carpeta\n",
    "        df['estado'] = nombre_estado\n",
    "        \n",
    "        # Agregar el DataFrame a la lista de dataframes\n",
    "        dataframes.append(df)\n",
    "    \n",
    "    # Concatenar todos los DataFrames en uno solo\n",
    "    df_resultado = pd.concat(dataframes, ignore_index=True)\n",
    "    \n",
    "    # Guardar el DataFrame resultante en un archivo Parquet\n",
    "    resultado_ruta = os.path.join(ruta, f'resultado_{carpeta}.parquet')\n",
    "    df_resultado.to_parquet(resultado_ruta, index=False)\n"
   ]
  },
  {
   "cell_type": "code",
   "execution_count": 10,
   "metadata": {},
   "outputs": [
    {
     "data": {
      "text/plain": [
       "(3960, 7)"
      ]
     },
     "execution_count": 10,
     "metadata": {},
     "output_type": "execute_result"
    }
   ],
   "source": [
    "df_parquet = pd.read_parquet(\"./Maps/reviews-resultantes/resultado_review-Alabama.parquet\")\n",
    "df_parquet.shape"
   ]
  },
  {
   "cell_type": "code",
   "execution_count": 11,
   "metadata": {},
   "outputs": [
    {
     "data": {
      "text/html": [
       "<div>\n",
       "<style scoped>\n",
       "    .dataframe tbody tr th:only-of-type {\n",
       "        vertical-align: middle;\n",
       "    }\n",
       "\n",
       "    .dataframe tbody tr th {\n",
       "        vertical-align: top;\n",
       "    }\n",
       "\n",
       "    .dataframe thead th {\n",
       "        text-align: right;\n",
       "    }\n",
       "</style>\n",
       "<table border=\"1\" class=\"dataframe\">\n",
       "  <thead>\n",
       "    <tr style=\"text-align: right;\">\n",
       "      <th></th>\n",
       "      <th>user_id</th>\n",
       "      <th>name</th>\n",
       "      <th>time</th>\n",
       "      <th>rating</th>\n",
       "      <th>text</th>\n",
       "      <th>gmap_id</th>\n",
       "      <th>estado</th>\n",
       "    </tr>\n",
       "  </thead>\n",
       "  <tbody>\n",
       "    <tr>\n",
       "      <th>0</th>\n",
       "      <td>1.086354e+20</td>\n",
       "      <td>Pete Welch</td>\n",
       "      <td>1507918733689</td>\n",
       "      <td>5</td>\n",
       "      <td>Great meal. Quick and attentive service. Reall...</td>\n",
       "      <td>0x88891b93e920f757:0x123f6577deb1391a</td>\n",
       "      <td>Alabama</td>\n",
       "    </tr>\n",
       "    <tr>\n",
       "      <th>1</th>\n",
       "      <td>1.109068e+20</td>\n",
       "      <td>Art Hogarth</td>\n",
       "      <td>1517324411354</td>\n",
       "      <td>4</td>\n",
       "      <td>The staff are great and very friendly!  the fo...</td>\n",
       "      <td>0x88891b93e920f757:0x123f6577deb1391a</td>\n",
       "      <td>Alabama</td>\n",
       "    </tr>\n",
       "    <tr>\n",
       "      <th>2</th>\n",
       "      <td>1.177362e+20</td>\n",
       "      <td>Anthony Staggs</td>\n",
       "      <td>1513224948103</td>\n",
       "      <td>5</td>\n",
       "      <td>My wife and I came to Pizitz on a whim and... ...</td>\n",
       "      <td>0x88891b93e920f757:0x123f6577deb1391a</td>\n",
       "      <td>Alabama</td>\n",
       "    </tr>\n",
       "    <tr>\n",
       "      <th>3</th>\n",
       "      <td>1.046997e+20</td>\n",
       "      <td>Edward DeMellier</td>\n",
       "      <td>1514120032820</td>\n",
       "      <td>4</td>\n",
       "      <td>We thoroughly enjoyed our meal. We did have a ...</td>\n",
       "      <td>0x88891b93e920f757:0x123f6577deb1391a</td>\n",
       "      <td>Alabama</td>\n",
       "    </tr>\n",
       "    <tr>\n",
       "      <th>4</th>\n",
       "      <td>1.071123e+20</td>\n",
       "      <td>cam johnson</td>\n",
       "      <td>1518365154759</td>\n",
       "      <td>4</td>\n",
       "      <td>Ribeye was unbelievably good.  Lamb ravioli wi...</td>\n",
       "      <td>0x88891b93e920f757:0x123f6577deb1391a</td>\n",
       "      <td>Alabama</td>\n",
       "    </tr>\n",
       "  </tbody>\n",
       "</table>\n",
       "</div>"
      ],
      "text/plain": [
       "        user_id              name           time  rating  \\\n",
       "0  1.086354e+20        Pete Welch  1507918733689       5   \n",
       "1  1.109068e+20       Art Hogarth  1517324411354       4   \n",
       "2  1.177362e+20    Anthony Staggs  1513224948103       5   \n",
       "3  1.046997e+20  Edward DeMellier  1514120032820       4   \n",
       "4  1.071123e+20       cam johnson  1518365154759       4   \n",
       "\n",
       "                                                text  \\\n",
       "0  Great meal. Quick and attentive service. Reall...   \n",
       "1  The staff are great and very friendly!  the fo...   \n",
       "2  My wife and I came to Pizitz on a whim and... ...   \n",
       "3  We thoroughly enjoyed our meal. We did have a ...   \n",
       "4  Ribeye was unbelievably good.  Lamb ravioli wi...   \n",
       "\n",
       "                                 gmap_id   estado  \n",
       "0  0x88891b93e920f757:0x123f6577deb1391a  Alabama  \n",
       "1  0x88891b93e920f757:0x123f6577deb1391a  Alabama  \n",
       "2  0x88891b93e920f757:0x123f6577deb1391a  Alabama  \n",
       "3  0x88891b93e920f757:0x123f6577deb1391a  Alabama  \n",
       "4  0x88891b93e920f757:0x123f6577deb1391a  Alabama  "
      ]
     },
     "execution_count": 11,
     "metadata": {},
     "output_type": "execute_result"
    }
   ],
   "source": [
    "df_parquet.head()"
   ]
  },
  {
   "cell_type": "markdown",
   "metadata": {},
   "source": [
    "### Union de parquet\n"
   ]
  },
  {
   "cell_type": "code",
   "execution_count": 12,
   "metadata": {},
   "outputs": [],
   "source": [
    "ruta = '/media/fermuba/Archivos/Google/Maps/reviews-resultantes/'\n",
    "\n",
    "archivos_parquet = os.listdir(ruta)\n",
    "\n",
    "# Crear una lista para almacenar los DataFrames de cada archivo Parquet\n",
    "dataframes = []\n",
    "\n",
    "# Iterar a través de los nombres de los archivos Parquet\n",
    "for archivo in archivos_parquet:\n",
    "    # Crear la ruta completa del archivo Parquet\n",
    "    archivo_ruta = os.path.join(ruta, archivo)\n",
    "    \n",
    "    # Leer el archivo Parquet en un DataFrame\n",
    "    df = pd.read_parquet(archivo_ruta)\n",
    "    \n",
    "    # Agregar el DataFrame a la lista de dataframes\n",
    "    dataframes.append(df)\n",
    "\n",
    "# Concatenar todos los DataFrames en uno solo\n",
    "df_final = pd.concat(dataframes, ignore_index=True)\n",
    "\n",
    "# Guardar el DataFrame final en un archivo Parquet\n",
    "df_final.to_parquet('./Maps/reviews-map-resultado.parquet', index=False)\n"
   ]
  },
  {
   "cell_type": "code",
   "execution_count": 13,
   "metadata": {},
   "outputs": [
    {
     "data": {
      "text/plain": [
       "(519421, 7)"
      ]
     },
     "execution_count": 13,
     "metadata": {},
     "output_type": "execute_result"
    }
   ],
   "source": [
    "df_parquet = pd.read_parquet(\"./Maps/reviews-map-resultado.parquet\")\n",
    "df_parquet.shape"
   ]
  },
  {
   "cell_type": "code",
   "execution_count": 14,
   "metadata": {},
   "outputs": [
    {
     "data": {
      "text/html": [
       "<div>\n",
       "<style scoped>\n",
       "    .dataframe tbody tr th:only-of-type {\n",
       "        vertical-align: middle;\n",
       "    }\n",
       "\n",
       "    .dataframe tbody tr th {\n",
       "        vertical-align: top;\n",
       "    }\n",
       "\n",
       "    .dataframe thead th {\n",
       "        text-align: right;\n",
       "    }\n",
       "</style>\n",
       "<table border=\"1\" class=\"dataframe\">\n",
       "  <thead>\n",
       "    <tr style=\"text-align: right;\">\n",
       "      <th></th>\n",
       "      <th>user_id</th>\n",
       "      <th>name</th>\n",
       "      <th>time</th>\n",
       "      <th>rating</th>\n",
       "      <th>text</th>\n",
       "      <th>gmap_id</th>\n",
       "      <th>estado</th>\n",
       "    </tr>\n",
       "  </thead>\n",
       "  <tbody>\n",
       "    <tr>\n",
       "      <th>0</th>\n",
       "      <td>1.178177e+20</td>\n",
       "      <td>tj paper</td>\n",
       "      <td>1630598450114</td>\n",
       "      <td>1</td>\n",
       "      <td>Not putting a filthy piece of fabric over my f...</td>\n",
       "      <td>0x880f97fc018a1333:0xf34461f47468c83</td>\n",
       "      <td>Illinois</td>\n",
       "    </tr>\n",
       "    <tr>\n",
       "      <th>1</th>\n",
       "      <td>1.089516e+20</td>\n",
       "      <td>Alex Coyle</td>\n",
       "      <td>1630200732937</td>\n",
       "      <td>5</td>\n",
       "      <td>Nice and clean, can't wait till they get some ...</td>\n",
       "      <td>0x880f97fc018a1333:0xf34461f47468c83</td>\n",
       "      <td>Illinois</td>\n",
       "    </tr>\n",
       "    <tr>\n",
       "      <th>2</th>\n",
       "      <td>1.008189e+20</td>\n",
       "      <td>Linda Simonpietri</td>\n",
       "      <td>1628385156606</td>\n",
       "      <td>5</td>\n",
       "      <td>Large, clean, neat, well organized.\\nHelpful f...</td>\n",
       "      <td>0x880f97fc018a1333:0xf34461f47468c83</td>\n",
       "      <td>Illinois</td>\n",
       "    </tr>\n",
       "    <tr>\n",
       "      <th>3</th>\n",
       "      <td>1.156822e+20</td>\n",
       "      <td>Irving Ubri</td>\n",
       "      <td>1629119566442</td>\n",
       "      <td>5</td>\n",
       "      <td>Vast selection great pricing for all kinds of ...</td>\n",
       "      <td>0x880f97fc018a1333:0xf34461f47468c83</td>\n",
       "      <td>Illinois</td>\n",
       "    </tr>\n",
       "    <tr>\n",
       "      <th>4</th>\n",
       "      <td>1.148888e+20</td>\n",
       "      <td>john sell</td>\n",
       "      <td>1629212784259</td>\n",
       "      <td>5</td>\n",
       "      <td>Love binnys!!!</td>\n",
       "      <td>0x880f97fc018a1333:0xf34461f47468c83</td>\n",
       "      <td>Illinois</td>\n",
       "    </tr>\n",
       "  </tbody>\n",
       "</table>\n",
       "</div>"
      ],
      "text/plain": [
       "        user_id               name           time  rating  \\\n",
       "0  1.178177e+20           tj paper  1630598450114       1   \n",
       "1  1.089516e+20         Alex Coyle  1630200732937       5   \n",
       "2  1.008189e+20  Linda Simonpietri  1628385156606       5   \n",
       "3  1.156822e+20        Irving Ubri  1629119566442       5   \n",
       "4  1.148888e+20          john sell  1629212784259       5   \n",
       "\n",
       "                                                text  \\\n",
       "0  Not putting a filthy piece of fabric over my f...   \n",
       "1  Nice and clean, can't wait till they get some ...   \n",
       "2  Large, clean, neat, well organized.\\nHelpful f...   \n",
       "3  Vast selection great pricing for all kinds of ...   \n",
       "4                                     Love binnys!!!   \n",
       "\n",
       "                                gmap_id    estado  \n",
       "0  0x880f97fc018a1333:0xf34461f47468c83  Illinois  \n",
       "1  0x880f97fc018a1333:0xf34461f47468c83  Illinois  \n",
       "2  0x880f97fc018a1333:0xf34461f47468c83  Illinois  \n",
       "3  0x880f97fc018a1333:0xf34461f47468c83  Illinois  \n",
       "4  0x880f97fc018a1333:0xf34461f47468c83  Illinois  "
      ]
     },
     "execution_count": 14,
     "metadata": {},
     "output_type": "execute_result"
    }
   ],
   "source": [
    "df_parquet.head()"
   ]
  },
  {
   "cell_type": "markdown",
   "metadata": {},
   "source": [
    "# Union de los archivos\n"
   ]
  },
  {
   "cell_type": "code",
   "execution_count": 15,
   "metadata": {},
   "outputs": [],
   "source": [
    "# Realiza una fusión (merge) basada en la columna 'id'\n",
    "df_union = df_parquet.merge(metadato, on='gmap_id', how='left')"
   ]
  },
  {
   "cell_type": "code",
   "execution_count": 16,
   "metadata": {},
   "outputs": [
    {
     "data": {
      "text/plain": [
       "(520765, 16)"
      ]
     },
     "execution_count": 16,
     "metadata": {},
     "output_type": "execute_result"
    }
   ],
   "source": [
    "df_union.shape"
   ]
  },
  {
   "cell_type": "code",
   "execution_count": 17,
   "metadata": {},
   "outputs": [
    {
     "data": {
      "text/html": [
       "<div>\n",
       "<style scoped>\n",
       "    .dataframe tbody tr th:only-of-type {\n",
       "        vertical-align: middle;\n",
       "    }\n",
       "\n",
       "    .dataframe tbody tr th {\n",
       "        vertical-align: top;\n",
       "    }\n",
       "\n",
       "    .dataframe thead th {\n",
       "        text-align: right;\n",
       "    }\n",
       "</style>\n",
       "<table border=\"1\" class=\"dataframe\">\n",
       "  <thead>\n",
       "    <tr style=\"text-align: right;\">\n",
       "      <th></th>\n",
       "      <th>user_id</th>\n",
       "      <th>name_x</th>\n",
       "      <th>time</th>\n",
       "      <th>rating</th>\n",
       "      <th>text</th>\n",
       "      <th>gmap_id</th>\n",
       "      <th>estado</th>\n",
       "      <th>name_y</th>\n",
       "      <th>address</th>\n",
       "      <th>description</th>\n",
       "      <th>latitude</th>\n",
       "      <th>longitude</th>\n",
       "      <th>category</th>\n",
       "      <th>avg_rating</th>\n",
       "      <th>num_of_reviews</th>\n",
       "      <th>category_string</th>\n",
       "    </tr>\n",
       "  </thead>\n",
       "  <tbody>\n",
       "    <tr>\n",
       "      <th>0</th>\n",
       "      <td>1.178177e+20</td>\n",
       "      <td>tj paper</td>\n",
       "      <td>1630598450114</td>\n",
       "      <td>1</td>\n",
       "      <td>Not putting a filthy piece of fabric over my f...</td>\n",
       "      <td>0x880f97fc018a1333:0xf34461f47468c83</td>\n",
       "      <td>Illinois</td>\n",
       "      <td>Binny's Beverage Depot</td>\n",
       "      <td>Binny's Beverage Depot, 290 Hawthorn Village C...</td>\n",
       "      <td>Longtime supplier for beer, wine &amp; spirits, pl...</td>\n",
       "      <td>42.241681</td>\n",
       "      <td>-87.956607</td>\n",
       "      <td>[Liquor store, Beer store, Wine store]</td>\n",
       "      <td>4.4</td>\n",
       "      <td>26</td>\n",
       "      <td>Liquor store, Beer store, Wine store</td>\n",
       "    </tr>\n",
       "    <tr>\n",
       "      <th>1</th>\n",
       "      <td>1.178177e+20</td>\n",
       "      <td>tj paper</td>\n",
       "      <td>1630598450114</td>\n",
       "      <td>1</td>\n",
       "      <td>Not putting a filthy piece of fabric over my f...</td>\n",
       "      <td>0x880f97fc018a1333:0xf34461f47468c83</td>\n",
       "      <td>Illinois</td>\n",
       "      <td>Binny's Beverage Depot</td>\n",
       "      <td>Binny's Beverage Depot, 290 Hawthorn Village C...</td>\n",
       "      <td>Longtime supplier for beer, wine &amp; spirits, pl...</td>\n",
       "      <td>42.241681</td>\n",
       "      <td>-87.956607</td>\n",
       "      <td>[Liquor store, Beer store, Wine store]</td>\n",
       "      <td>4.4</td>\n",
       "      <td>26</td>\n",
       "      <td>Liquor store, Beer store, Wine store</td>\n",
       "    </tr>\n",
       "    <tr>\n",
       "      <th>2</th>\n",
       "      <td>1.089516e+20</td>\n",
       "      <td>Alex Coyle</td>\n",
       "      <td>1630200732937</td>\n",
       "      <td>5</td>\n",
       "      <td>Nice and clean, can't wait till they get some ...</td>\n",
       "      <td>0x880f97fc018a1333:0xf34461f47468c83</td>\n",
       "      <td>Illinois</td>\n",
       "      <td>Binny's Beverage Depot</td>\n",
       "      <td>Binny's Beverage Depot, 290 Hawthorn Village C...</td>\n",
       "      <td>Longtime supplier for beer, wine &amp; spirits, pl...</td>\n",
       "      <td>42.241681</td>\n",
       "      <td>-87.956607</td>\n",
       "      <td>[Liquor store, Beer store, Wine store]</td>\n",
       "      <td>4.4</td>\n",
       "      <td>26</td>\n",
       "      <td>Liquor store, Beer store, Wine store</td>\n",
       "    </tr>\n",
       "    <tr>\n",
       "      <th>3</th>\n",
       "      <td>1.089516e+20</td>\n",
       "      <td>Alex Coyle</td>\n",
       "      <td>1630200732937</td>\n",
       "      <td>5</td>\n",
       "      <td>Nice and clean, can't wait till they get some ...</td>\n",
       "      <td>0x880f97fc018a1333:0xf34461f47468c83</td>\n",
       "      <td>Illinois</td>\n",
       "      <td>Binny's Beverage Depot</td>\n",
       "      <td>Binny's Beverage Depot, 290 Hawthorn Village C...</td>\n",
       "      <td>Longtime supplier for beer, wine &amp; spirits, pl...</td>\n",
       "      <td>42.241681</td>\n",
       "      <td>-87.956607</td>\n",
       "      <td>[Liquor store, Beer store, Wine store]</td>\n",
       "      <td>4.4</td>\n",
       "      <td>26</td>\n",
       "      <td>Liquor store, Beer store, Wine store</td>\n",
       "    </tr>\n",
       "    <tr>\n",
       "      <th>4</th>\n",
       "      <td>1.008189e+20</td>\n",
       "      <td>Linda Simonpietri</td>\n",
       "      <td>1628385156606</td>\n",
       "      <td>5</td>\n",
       "      <td>Large, clean, neat, well organized.\\nHelpful f...</td>\n",
       "      <td>0x880f97fc018a1333:0xf34461f47468c83</td>\n",
       "      <td>Illinois</td>\n",
       "      <td>Binny's Beverage Depot</td>\n",
       "      <td>Binny's Beverage Depot, 290 Hawthorn Village C...</td>\n",
       "      <td>Longtime supplier for beer, wine &amp; spirits, pl...</td>\n",
       "      <td>42.241681</td>\n",
       "      <td>-87.956607</td>\n",
       "      <td>[Liquor store, Beer store, Wine store]</td>\n",
       "      <td>4.4</td>\n",
       "      <td>26</td>\n",
       "      <td>Liquor store, Beer store, Wine store</td>\n",
       "    </tr>\n",
       "  </tbody>\n",
       "</table>\n",
       "</div>"
      ],
      "text/plain": [
       "        user_id             name_x           time  rating  \\\n",
       "0  1.178177e+20           tj paper  1630598450114       1   \n",
       "1  1.178177e+20           tj paper  1630598450114       1   \n",
       "2  1.089516e+20         Alex Coyle  1630200732937       5   \n",
       "3  1.089516e+20         Alex Coyle  1630200732937       5   \n",
       "4  1.008189e+20  Linda Simonpietri  1628385156606       5   \n",
       "\n",
       "                                                text  \\\n",
       "0  Not putting a filthy piece of fabric over my f...   \n",
       "1  Not putting a filthy piece of fabric over my f...   \n",
       "2  Nice and clean, can't wait till they get some ...   \n",
       "3  Nice and clean, can't wait till they get some ...   \n",
       "4  Large, clean, neat, well organized.\\nHelpful f...   \n",
       "\n",
       "                                gmap_id    estado                  name_y  \\\n",
       "0  0x880f97fc018a1333:0xf34461f47468c83  Illinois  Binny's Beverage Depot   \n",
       "1  0x880f97fc018a1333:0xf34461f47468c83  Illinois  Binny's Beverage Depot   \n",
       "2  0x880f97fc018a1333:0xf34461f47468c83  Illinois  Binny's Beverage Depot   \n",
       "3  0x880f97fc018a1333:0xf34461f47468c83  Illinois  Binny's Beverage Depot   \n",
       "4  0x880f97fc018a1333:0xf34461f47468c83  Illinois  Binny's Beverage Depot   \n",
       "\n",
       "                                             address  \\\n",
       "0  Binny's Beverage Depot, 290 Hawthorn Village C...   \n",
       "1  Binny's Beverage Depot, 290 Hawthorn Village C...   \n",
       "2  Binny's Beverage Depot, 290 Hawthorn Village C...   \n",
       "3  Binny's Beverage Depot, 290 Hawthorn Village C...   \n",
       "4  Binny's Beverage Depot, 290 Hawthorn Village C...   \n",
       "\n",
       "                                         description   latitude  longitude  \\\n",
       "0  Longtime supplier for beer, wine & spirits, pl...  42.241681 -87.956607   \n",
       "1  Longtime supplier for beer, wine & spirits, pl...  42.241681 -87.956607   \n",
       "2  Longtime supplier for beer, wine & spirits, pl...  42.241681 -87.956607   \n",
       "3  Longtime supplier for beer, wine & spirits, pl...  42.241681 -87.956607   \n",
       "4  Longtime supplier for beer, wine & spirits, pl...  42.241681 -87.956607   \n",
       "\n",
       "                                 category  avg_rating  num_of_reviews  \\\n",
       "0  [Liquor store, Beer store, Wine store]         4.4              26   \n",
       "1  [Liquor store, Beer store, Wine store]         4.4              26   \n",
       "2  [Liquor store, Beer store, Wine store]         4.4              26   \n",
       "3  [Liquor store, Beer store, Wine store]         4.4              26   \n",
       "4  [Liquor store, Beer store, Wine store]         4.4              26   \n",
       "\n",
       "                        category_string  \n",
       "0  Liquor store, Beer store, Wine store  \n",
       "1  Liquor store, Beer store, Wine store  \n",
       "2  Liquor store, Beer store, Wine store  \n",
       "3  Liquor store, Beer store, Wine store  \n",
       "4  Liquor store, Beer store, Wine store  "
      ]
     },
     "execution_count": 17,
     "metadata": {},
     "output_type": "execute_result"
    }
   ],
   "source": [
    "df_union.head()"
   ]
  },
  {
   "cell_type": "code",
   "execution_count": 18,
   "metadata": {},
   "outputs": [],
   "source": [
    "df_union.to_parquet('./Maps/reviews-metadata-union.parquet')"
   ]
  }
 ],
 "metadata": {
  "kernelspec": {
   "display_name": "Python 3",
   "language": "python",
   "name": "python3"
  },
  "language_info": {
   "codemirror_mode": {
    "name": "ipython",
    "version": 3
   },
   "file_extension": ".py",
   "mimetype": "text/x-python",
   "name": "python",
   "nbconvert_exporter": "python",
   "pygments_lexer": "ipython3",
   "version": "3.10.12"
  },
  "orig_nbformat": 4
 },
 "nbformat": 4,
 "nbformat_minor": 2
}
